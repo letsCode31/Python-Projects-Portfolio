{
 "cells": [
  {
   "cell_type": "markdown",
   "id": "7814a9ef-b14d-4214-bab7-992bdd9943fe",
   "metadata": {},
   "source": [
    "## Dice Roller Requirements\n",
    "##### Simulate rolling a six-sided dice, where the result can be any integer between 1 and 6.\n",
    "##### Allow the user to roll the dice multiple times if they wish."
   ]
  },
  {
   "cell_type": "code",
   "execution_count": 2,
   "id": "10cc268a-d4a0-41f2-b624-98b44b06efd6",
   "metadata": {},
   "outputs": [
    {
     "name": "stdout",
     "output_type": "stream",
     "text": [
      "The dice rolled: 5\n"
     ]
    },
    {
     "name": "stdin",
     "output_type": "stream",
     "text": [
      "Do you want to roll the dice again? (yes/no):  yes\n"
     ]
    },
    {
     "name": "stdout",
     "output_type": "stream",
     "text": [
      "The dice rolled: 2\n"
     ]
    },
    {
     "name": "stdin",
     "output_type": "stream",
     "text": [
      "Do you want to roll the dice again? (yes/no):  yes\n"
     ]
    },
    {
     "name": "stdout",
     "output_type": "stream",
     "text": [
      "The dice rolled: 2\n"
     ]
    },
    {
     "name": "stdin",
     "output_type": "stream",
     "text": [
      "Do you want to roll the dice again? (yes/no):  no\n"
     ]
    },
    {
     "name": "stdout",
     "output_type": "stream",
     "text": [
      "Thanks for playing!\n"
     ]
    }
   ],
   "source": [
    "import random\n",
    "\n",
    "# Step 1: Function to roll the dice\n",
    "def roll_dice():\n",
    "    return random.randint(1, 6) #generates a random value between 1 to 6\n",
    "\n",
    "# Step 2: Main loop to simulate the dice roll\n",
    "while True:\n",
    "    # Roll the dice\n",
    "    result = roll_dice()\n",
    "    print(f\"The dice rolled: {result}\")\n",
    "\n",
    "    # Ask if the user wants to roll again\n",
    "    roll_again = input(\"Do you want to roll the dice again? (yes/no): \").lower()\n",
    "    if roll_again != \"yes\":\n",
    "        print(\"Thanks for playing!\")\n",
    "        break\n"
   ]
  },
  {
   "cell_type": "code",
   "execution_count": null,
   "id": "207f3cb6-2839-44fe-a867-0fb200e1d2ad",
   "metadata": {},
   "outputs": [],
   "source": []
  }
 ],
 "metadata": {
  "kernelspec": {
   "display_name": "Python 3 (ipykernel)",
   "language": "python",
   "name": "python3"
  },
  "language_info": {
   "codemirror_mode": {
    "name": "ipython",
    "version": 3
   },
   "file_extension": ".py",
   "mimetype": "text/x-python",
   "name": "python",
   "nbconvert_exporter": "python",
   "pygments_lexer": "ipython3",
   "version": "3.12.4"
  }
 },
 "nbformat": 4,
 "nbformat_minor": 5
}
