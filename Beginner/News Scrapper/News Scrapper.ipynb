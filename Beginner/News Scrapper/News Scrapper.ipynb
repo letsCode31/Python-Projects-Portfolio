{
 "cells": [
  {
   "cell_type": "code",
   "execution_count": 1,
   "id": "cd2f7028-6b0b-410c-9adf-8414e614c7ff",
   "metadata": {
    "scrolled": true
   },
   "outputs": [
    {
     "name": "stdout",
     "output_type": "stream",
     "text": [
      "Requirement already satisfied: requests in /opt/anaconda3/lib/python3.12/site-packages (2.32.2)\n",
      "Requirement already satisfied: beautifulsoup4 in /opt/anaconda3/lib/python3.12/site-packages (4.12.3)\n",
      "Requirement already satisfied: charset-normalizer<4,>=2 in /opt/anaconda3/lib/python3.12/site-packages (from requests) (2.0.4)\n",
      "Requirement already satisfied: idna<4,>=2.5 in /opt/anaconda3/lib/python3.12/site-packages (from requests) (3.7)\n",
      "Requirement already satisfied: urllib3<3,>=1.21.1 in /opt/anaconda3/lib/python3.12/site-packages (from requests) (2.2.2)\n",
      "Requirement already satisfied: certifi>=2017.4.17 in /opt/anaconda3/lib/python3.12/site-packages (from requests) (2024.8.30)\n",
      "Requirement already satisfied: soupsieve>1.2 in /opt/anaconda3/lib/python3.12/site-packages (from beautifulsoup4) (2.5)\n",
      "Note: you may need to restart the kernel to use updated packages.\n"
     ]
    }
   ],
   "source": [
    "pip install requests beautifulsoup4"
   ]
  },
  {
   "cell_type": "code",
   "execution_count": 59,
   "id": "f50d39fd-1f2b-4908-ae9b-72be1733def1",
   "metadata": {},
   "outputs": [
    {
     "name": "stdout",
     "output_type": "stream",
     "text": [
      "Top 3 Most Recent News Headlines:\n",
      "1. Spot Bitcoin ETFs remain off Japan’s agenda, says major Asian asset managers\n",
      "2. Tether  pushing dollar supremacy in emerging markets: Ardoino\n",
      "3. Sui Blockchain integrates with Google Cloud via ZettaBlock\n"
     ]
    }
   ],
   "source": [
    "import requests\n",
    "from bs4 import BeautifulSoup\n",
    "\n",
    "# Step 1: Define the URL for the crypto.news news page\n",
    "url = 'https://crypto.news/news/'\n",
    "\n",
    "# Step 2: Set up headers to mimic a browser request\n",
    "headers = {\n",
    "    'User-Agent': 'Mozilla/5.0 (Windows NT 10.0; Win64; x64) AppleWebKit/537.36 (KHTML, like Gecko) Chrome/58.0.3029.110 Safari/537.3'\n",
    "}\n",
    "\n",
    "# Step 3: Send a request to fetch the HTML content of the page\n",
    "response = requests.get(url, headers=headers)\n",
    "\n",
    "# Check if the request was successful\n",
    "if response.status_code == 200:\n",
    "    # Step 4: Parse the HTML content using BeautifulSoup\n",
    "    soup = BeautifulSoup(response.content, 'html.parser')\n",
    "\n",
    "    # Step 5: Extract the most recent news headlines\n",
    "    headlines = soup.find_all(class_='post-loop__title', limit=3)  # Limiting to the top 3 headlines #check for the class adn header time using inspect feature\n",
    "\n",
    "    # Step 6: Display the top 3 news headlines\n",
    "    print(\"Top 3 Most Recent News Headlines:\")\n",
    "    for i, headline in enumerate(headlines, start=1):\n",
    "        print(f\"{i}. {headline.text.strip()}\")\n",
    "else:\n",
    "    print(\"Failed to retrieve the news page.\")\n"
   ]
  },
  {
   "cell_type": "code",
   "execution_count": null,
   "id": "9750d5d5-3d86-4573-a661-60509b985ab2",
   "metadata": {},
   "outputs": [],
   "source": []
  }
 ],
 "metadata": {
  "kernelspec": {
   "display_name": "Python 3 (ipykernel)",
   "language": "python",
   "name": "python3"
  },
  "language_info": {
   "codemirror_mode": {
    "name": "ipython",
    "version": 3
   },
   "file_extension": ".py",
   "mimetype": "text/x-python",
   "name": "python",
   "nbconvert_exporter": "python",
   "pygments_lexer": "ipython3",
   "version": "3.12.4"
  }
 },
 "nbformat": 4,
 "nbformat_minor": 5
}
