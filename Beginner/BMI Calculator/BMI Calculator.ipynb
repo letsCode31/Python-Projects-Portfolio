{
 "cells": [
  {
   "cell_type": "markdown",
   "id": "d010df0a-a4ae-4252-adf0-325a7e77f167",
   "metadata": {},
   "source": [
    "## BMI Calculation\n",
    "#### Formula: BMI = weight(kg)/ sqaure(height(m))\n",
    "\n",
    "##### The BMI categories are:\n",
    "##### - Underweight: BMI < 18.5\n",
    "##### - Normal weight: 18.5 ≤ BMI < 24.9\n",
    "##### - Overweight: 25 ≤ BMI < 29.9\n",
    "##### - Obesity: BMI ≥ 30"
   ]
  },
  {
   "cell_type": "code",
   "execution_count": 4,
   "id": "57c2d873-d689-4c63-b118-0480b784ef8f",
   "metadata": {},
   "outputs": [
    {
     "name": "stdin",
     "output_type": "stream",
     "text": [
      "Enter your weight in kilograms:  80\n",
      "Enter your height in meters:  1.78\n"
     ]
    },
    {
     "name": "stdout",
     "output_type": "stream",
     "text": [
      "Your BMI is: 25.25\n",
      "You are classified as: Overweight\n"
     ]
    }
   ],
   "source": [
    "# Step 1: Get user input for weight and height\n",
    "weight = float(input(\"Enter your weight in kilograms: \"))\n",
    "height = float(input(\"Enter your height in meters: \"))\n",
    "\n",
    "# Step 2: Calculate the BMI\n",
    "bmi = weight / (height ** 2)\n",
    "\n",
    "# Step 3: Determine the BMI category\n",
    "if bmi < 18.5:\n",
    "    category = \"Underweight\"\n",
    "elif 18.5 <= bmi < 24.9:\n",
    "    category = \"Normal weight\"\n",
    "elif 25 <= bmi < 29.9:\n",
    "    category = \"Overweight\"\n",
    "else:\n",
    "    category = \"Obesity\"\n",
    "\n",
    "# Step 4: Display the results\n",
    "print(f\"Your BMI is: {bmi:.2f}\")\n",
    "print(f\"You are classified as: {category}\")"
   ]
  },
  {
   "cell_type": "code",
   "execution_count": null,
   "id": "b53ae46b-99fd-4fb9-94df-db2b82f94119",
   "metadata": {},
   "outputs": [],
   "source": []
  }
 ],
 "metadata": {
  "kernelspec": {
   "display_name": "Python 3 (ipykernel)",
   "language": "python",
   "name": "python3"
  },
  "language_info": {
   "codemirror_mode": {
    "name": "ipython",
    "version": 3
   },
   "file_extension": ".py",
   "mimetype": "text/x-python",
   "name": "python",
   "nbconvert_exporter": "python",
   "pygments_lexer": "ipython3",
   "version": "3.12.4"
  }
 },
 "nbformat": 4,
 "nbformat_minor": 5
}
