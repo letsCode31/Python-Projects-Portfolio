{
 "cells": [
  {
   "cell_type": "markdown",
   "id": "ba560382-b425-4466-a9be-cd4fc3175d20",
   "metadata": {},
   "source": [
    "### Step 1: Collecting Student Data"
   ]
  },
  {
   "cell_type": "code",
   "execution_count": 2,
   "id": "c40eb5d2-c652-4f8b-92b0-7a4c61d339b0",
   "metadata": {},
   "outputs": [],
   "source": [
    "def get_student_data():\n",
    "    students = []\n",
    "    while True:\n",
    "        name = input(\"Enter student name (or type 'done' to finish): \")\n",
    "        if name.lower() == 'done':\n",
    "            break\n",
    "        try:\n",
    "            grade = float(input(f\"Enter grade for {name}: \"))\n",
    "            students.append((name, grade))  # Store data as a tuple\n",
    "        except ValueError:\n",
    "            print(\"Invalid input. Please enter a valid grade (numeric value).\")\n",
    "    return students"
   ]
  },
  {
   "cell_type": "markdown",
   "id": "c5cba306-1674-47a1-ba74-f42661612ed5",
   "metadata": {},
   "source": [
    "### Step 2: Displaying Student Data"
   ]
  },
  {
   "cell_type": "code",
   "execution_count": 8,
   "id": "4cbec283-c0a5-448d-baa2-8b40787ecbf5",
   "metadata": {},
   "outputs": [],
   "source": [
    "def display_students(students):\n",
    "    print(\"\\nStudent Grades:\")\n",
    "    for name, grade in students:\n",
    "        print(f\"{name}: {grade}\")"
   ]
  },
  {
   "cell_type": "markdown",
   "id": "f55c1ef2-6569-46f7-89b6-a28fd2f0ee70",
   "metadata": {},
   "source": [
    "### Step 3: Calculating Statistics Using map and lambda"
   ]
  },
  {
   "cell_type": "code",
   "execution_count": 11,
   "id": "cecc74dd-0e19-4108-93ce-3200bec73a96",
   "metadata": {},
   "outputs": [],
   "source": [
    "def display_statistics(students):\n",
    "    grades = list(map(lambda student: student[1], students))  # Extract grades using map\n",
    "    average_grade = sum(grades) / len(grades)\n",
    "    highest_grade_student = max(students, key=lambda student: student[1])\n",
    "    lowest_grade_student = min(students, key=lambda student: student[1])\n",
    "\n",
    "    print(f\"\\nAverage Grade: {average_grade:.2f}\")\n",
    "    print(f\"Highest Grade: {highest_grade_student[0]} with {highest_grade_student[1]}\")\n",
    "    print(f\"Lowest Grade: {lowest_grade_student[0]} with {lowest_grade_student[1]}\")\n"
   ]
  },
  {
   "cell_type": "markdown",
   "id": "834e704b-a552-4cba-a409-881d9676c8e4",
   "metadata": {},
   "source": [
    "### Step 4: Filtering Students with filter"
   ]
  },
  {
   "cell_type": "code",
   "execution_count": 24,
   "id": "95fc01c8-392b-4320-8d8e-9228fa1a45bf",
   "metadata": {},
   "outputs": [],
   "source": [
    "def display_pass_fail(students):\n",
    "    passed_students = list(filter(lambda student: student[1] >= 40, students))\n",
    "    failed_students = list(filter(lambda student: student[1] <40, students))\n",
    "\n",
    "    print(\"\\nStudents Who Passed:\")\n",
    "    for name, grade in passed_students:\n",
    "        print(f\"{name}: {grade}\")\n",
    "\n",
    "    print(\"\\nStudents Who Failed:\")\n",
    "    for name, grade in failed_students:\n",
    "        print(f\"{name}: {grade}\")"
   ]
  },
  {
   "cell_type": "markdown",
   "id": "e15c41ef-cbed-48c4-b33b-2a9a9eb30db5",
   "metadata": {},
   "source": [
    "### Step 5: Sorting Students with lambda"
   ]
  },
  {
   "cell_type": "code",
   "execution_count": 27,
   "id": "7c798cfc-594f-41fd-8533-ae01cd2f8f79",
   "metadata": {},
   "outputs": [],
   "source": [
    "def display_sorted_students(students):\n",
    "    students_sorted_by_name = sorted(students, key=lambda student: student[0])\n",
    "    students_sorted_by_grade = sorted(students, key=lambda student: student[1], reverse=True)\n",
    "\n",
    "    print(\"\\nStudents Sorted by Name:\")\n",
    "    for name, grade in students_sorted_by_name:\n",
    "        print(f\"{name}: {grade}\")\n",
    "\n",
    "    print(\"\\nStudents Sorted by Grade (Highest to Lowest):\")\n",
    "    for name, grade in students_sorted_by_grade:\n",
    "        print(f\"{name}: {grade}\")"
   ]
  },
  {
   "cell_type": "markdown",
   "id": "39cd6d4c-7877-480d-8463-ad99b4f8db19",
   "metadata": {},
   "source": [
    "### Step 6: Adding or Updating Students with Dictionaries"
   ]
  },
  {
   "cell_type": "code",
   "execution_count": 30,
   "id": "3238ca75-37b9-43d1-a36d-baaf6b236bd9",
   "metadata": {},
   "outputs": [],
   "source": [
    "def add_or_update_student(student_dict):\n",
    "    name = input(\"\\nEnter the name of the student to add/update: \")\n",
    "    try:\n",
    "        grade = float(input(f\"Enter grade for {name}: \"))\n",
    "        student_dict[name] = grade\n",
    "        print(f\"{name}'s grade has been added/updated to {grade}.\")\n",
    "    except ValueError:\n",
    "        print(\"Invalid input. Please enter a valid grade (numeric value).\")"
   ]
  },
  {
   "cell_type": "code",
   "execution_count": 32,
   "id": "c86d913f-48f0-4c9b-ae3b-9b26f9e87b6b",
   "metadata": {},
   "outputs": [
    {
     "name": "stdout",
     "output_type": "stream",
     "text": [
      "Welcome to the Student Grade Management System!\n"
     ]
    },
    {
     "name": "stdin",
     "output_type": "stream",
     "text": [
      "Enter student name (or type 'done' to finish):  A\n",
      "Enter grade for A:  33\n",
      "Enter student name (or type 'done' to finish):  B\n",
      "Enter grade for B:  40.5\n",
      "Enter student name (or type 'done' to finish):  C\n",
      "Enter grade for C:  39\n",
      "Enter student name (or type 'done' to finish):  D\n",
      "Enter grade for D:  88\n",
      "Enter student name (or type 'done' to finish):  E\n",
      "Enter grade for E:  95\n",
      "Enter student name (or type 'done' to finish):  F\n",
      "Enter grade for F:  75.75\n",
      "Enter student name (or type 'done' to finish):  G\n",
      "Enter grade for G:  80.43\n",
      "Enter student name (or type 'done' to finish):  H\n",
      "Enter grade for H:  32.2\n",
      "Enter student name (or type 'done' to finish):  done\n"
     ]
    },
    {
     "name": "stdout",
     "output_type": "stream",
     "text": [
      "\n",
      "Student Grades:\n",
      "A: 33.0\n",
      "B: 40.5\n",
      "C: 39.0\n",
      "D: 88.0\n",
      "E: 95.0\n",
      "F: 75.75\n",
      "G: 80.43\n",
      "H: 32.2\n",
      "\n",
      "Average Grade: 60.48\n",
      "Highest Grade: E with 95.0\n",
      "Lowest Grade: H with 32.2\n",
      "\n",
      "Students Who Passed:\n",
      "B: 40.5\n",
      "D: 88.0\n",
      "E: 95.0\n",
      "F: 75.75\n",
      "G: 80.43\n",
      "\n",
      "Students Who Failed:\n",
      "A: 33.0\n",
      "C: 39.0\n",
      "H: 32.2\n",
      "\n",
      "Students Sorted by Name:\n",
      "A: 33.0\n",
      "B: 40.5\n",
      "C: 39.0\n",
      "D: 88.0\n",
      "E: 95.0\n",
      "F: 75.75\n",
      "G: 80.43\n",
      "H: 32.2\n",
      "\n",
      "Students Sorted by Grade (Highest to Lowest):\n",
      "E: 95.0\n",
      "D: 88.0\n",
      "G: 80.43\n",
      "F: 75.75\n",
      "B: 40.5\n",
      "C: 39.0\n",
      "A: 33.0\n",
      "H: 32.2\n"
     ]
    },
    {
     "name": "stdin",
     "output_type": "stream",
     "text": [
      "\n",
      "Do you want to add/update a student? (yes/no):  no\n"
     ]
    },
    {
     "name": "stdout",
     "output_type": "stream",
     "text": [
      "Exiting the program. Goodbye!\n"
     ]
    }
   ],
   "source": [
    "# Main program\n",
    "if __name__ == \"__main__\":\n",
    "    print(\"Welcome to the Student Grade Management System!\")\n",
    "    students = get_student_data()\n",
    "\n",
    "    if not students:\n",
    "        print(\"No student data entered. Exiting program.\")\n",
    "    else:\n",
    "        display_students(students)\n",
    "        display_statistics(students)\n",
    "        display_pass_fail(students)\n",
    "        display_sorted_students(students)\n",
    "\n",
    "        # Convert the list of tuples to a dictionary for easy updates\n",
    "        student_dict = dict(students)\n",
    "\n",
    "        while True:\n",
    "            action = input(\"\\nDo you want to add/update a student? (yes/no): \").lower()\n",
    "            if action == 'yes':\n",
    "                add_or_update_student(student_dict)\n",
    "                # Refresh the students list from the updated dictionary\n",
    "                students = list(student_dict.items())\n",
    "                display_students(students)\n",
    "                display_statistics(students)\n",
    "                display_pass_fail(students)\n",
    "                display_sorted_students(students)\n",
    "            elif action == 'no':\n",
    "                print(\"Exiting the program. Goodbye!\")\n",
    "                break\n",
    "            else:\n",
    "                print(\"Invalid input. Please enter 'yes' or 'no'.\")"
   ]
  },
  {
   "cell_type": "code",
   "execution_count": null,
   "id": "92346067-7fed-4740-913f-337a73ed88a4",
   "metadata": {},
   "outputs": [],
   "source": []
  }
 ],
 "metadata": {
  "kernelspec": {
   "display_name": "Python 3 (ipykernel)",
   "language": "python",
   "name": "python3"
  },
  "language_info": {
   "codemirror_mode": {
    "name": "ipython",
    "version": 3
   },
   "file_extension": ".py",
   "mimetype": "text/x-python",
   "name": "python",
   "nbconvert_exporter": "python",
   "pygments_lexer": "ipython3",
   "version": "3.12.4"
  }
 },
 "nbformat": 4,
 "nbformat_minor": 5
}
