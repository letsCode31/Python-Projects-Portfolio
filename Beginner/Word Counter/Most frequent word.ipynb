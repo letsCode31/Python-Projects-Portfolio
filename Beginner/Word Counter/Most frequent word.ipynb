{
 "cells": [
  {
   "cell_type": "markdown",
   "id": "dbdcf1c0-5236-43ea-bfcb-218980978e7b",
   "metadata": {},
   "source": [
    "## Most frequent word\n",
    "\n",
    "##### Give the list of all hashtags used.\n",
    "##### Provide the top 5 most frequently used hashtags, starting from the 3rd place."
   ]
  },
  {
   "cell_type": "code",
   "execution_count": 3,
   "id": "968ce63f-6023-42c6-b39a-18fcb08b1bc8",
   "metadata": {},
   "outputs": [
    {
     "name": "stdout",
     "output_type": "stream",
     "text": [
      "List of all hashtags used:\n",
      "['#finance', '#money', '#business', '#investing', '#investment', '#trading', '#stockmarket', '#data', '#datascience', '#dataanalysis', '#dataanalytics', '#datascientist', '#machinelearning', '#python', '#pythonprogramming', '#pythonprojects', '#pythoncode', '#artificialintelligence', '#ai', '#dataanalyst', '#amankharwal', '#thecleverprogrammer', '#healthcare', '#health', '#covid', '#deeplearning', '#machinelearningprojects', '#datascienceprojects', '#machinelearningmodels', '#pythonlearning', '#pythondeveloper', '#pythoncoding', '#pythonprogrammer', '#datavisualization', '#bigdata', '#dataviz', '#analytics', '#technology', '#programming', '#statistics', '#coding', '#businessintelligence', '#datamining', '#tech', '#computerscience', '#tableau', '#database', '#algorithm', '#algorithms', '#machinelearningalgorithms', '#ml', '#softskills', '#stocks', '#forex', '#candlestick', '#candlestickcharts', '#pythonbooks', '#bookstagram', '#powerbi', '#dataanalysisprojects', '#businessanalytics', '#neuralnetwork', '#neuralnetworks', '#tensorflow', '#artificialintelligenceai', '#alexnet', '#sentimentanalysis', '#sentiment', '#nlp', '#naturallanguageprocessing', '#timeseries', '#time', '#timeseriesanalysis', '#iot', '#analysis', '#timeseriesmalaysia', '#career', '#job', '#jobs', '#jobsearch', '#education', '#success', '#careergoals', '#motivation', '#work', '#careerdevelopment', '#careers', '#goals', '#resume', '#students', '#careeradvice', '#marketing', '#digitalmarketing', '#media', '#socialmedia', '#IT', '#webdevelopment', '#stress', '#stressdetection', '#zomato', '#casestudy', '#businessmodel', '#boxplots', '#programmer', '#developer', '#javascript', '#code', '#coder', '#java', '#html', '#css', '#webdeveloper', '#software', '#codinglife', '#softwaredeveloper', '#linux', '#programmingmemes', '#webdesign', '#programmers', '#php', '#programminglife', '#hacking', '#bitcoin', '#cryptocurrency', '#projects', '#casestudies', '#amazonfinds', '#security', '#cybersecurity', '#network', '#internet', '#cloud', '#innovation', '#google', '#facebook', '#interview', '#datascienceinterview', '#otp', '#otpverification', '#qrcodes', '#bigdataanalytics', '#recommended', '#recommendations', '#recommendationsystem', '#recommendation', '#codinginterview', '#flipkart', '#news', '#pythonprogram', '@codergallery', '#whatsapp', '#roadmap', '#ukraine', '#instagram', '#instagramreach', '#datasciencejobs', '#datasciencetraining', '#datascienceeducation', '#datasciencecourse', '#sql', '#mysql', '#python3', '#pythonprogramminglanguage', '#clustering']\n",
      "\n",
      "Top 5 most frequent hashtags starting from 3rd place:\n",
      "#python: 109 times\n",
      "#machinelearning: 97 times\n",
      "#pythonprogramming: 95 times\n",
      "#datascience: 94 times\n",
      "#ai: 91 times\n"
     ]
    }
   ],
   "source": [
    "import pandas as pd\n",
    "from collections import Counter\n",
    "\n",
    "# Step 1: Load the dataset\n",
    "file_path = 'Instagram data.csv'  # Assuming the file is in the same folder as this script\n",
    "data = pd.read_csv(file_path, encoding='ISO-8859-1')\n",
    "\n",
    "# Step 2: Extract the \"Hashtags\" column and split the hashtags\n",
    "hashtags_list = data['Hashtags'].dropna().str.split()  # Split the hashtags by spaces\n",
    "\n",
    "# Flatten the list of lists into a single list of hashtags\n",
    "all_hashtags = [hashtag for hashtags in hashtags_list for hashtag in hashtags]\n",
    "\n",
    "# Step 3: Count the occurrences of each hashtag\n",
    "hashtag_counts = Counter(all_hashtags)\n",
    "\n",
    "# Step 4: Get the list of all hashtags used\n",
    "unique_hashtags = list(hashtag_counts.keys())\n",
    "\n",
    "# Step 5: Get the top 5 most frequent hashtags, starting from 3rd place\n",
    "top_hashtags_from_3rd = hashtag_counts.most_common()[2:7]  # Index 2 to 7 gives top 5 starting from 3rd place\n",
    "\n",
    "# Display the list of all hashtags\n",
    "print(\"List of all hashtags used:\")\n",
    "print(unique_hashtags)\n",
    "\n",
    "# Display the top 5 hashtags starting from 3rd place\n",
    "print(\"\\nTop 5 most frequent hashtags starting from 3rd place:\")\n",
    "for hashtag, count in top_hashtags_from_3rd:\n",
    "    print(f\"{hashtag}: {count} times\")"
   ]
  },
  {
   "cell_type": "code",
   "execution_count": null,
   "id": "50ecd39f-c774-4316-8504-2b3acad63d2a",
   "metadata": {},
   "outputs": [],
   "source": []
  }
 ],
 "metadata": {
  "kernelspec": {
   "display_name": "Python 3 (ipykernel)",
   "language": "python",
   "name": "python3"
  },
  "language_info": {
   "codemirror_mode": {
    "name": "ipython",
    "version": 3
   },
   "file_extension": ".py",
   "mimetype": "text/x-python",
   "name": "python",
   "nbconvert_exporter": "python",
   "pygments_lexer": "ipython3",
   "version": "3.12.4"
  }
 },
 "nbformat": 4,
 "nbformat_minor": 5
}
