{
 "cells": [
  {
   "cell_type": "markdown",
   "id": "898f10e0-d96e-46e2-ba83-2dbcfb00b88f",
   "metadata": {},
   "source": [
    "#### We’ll set up basic requirements like:\n",
    "\n",
    "##### Minimum length (e.g., 8 characters)\n",
    "##### At least one uppercase letter\n",
    "##### At least one lowercase letter\n",
    "##### At least one digit\n",
    "##### At least one special character\n",
    "##### We’ll also give feedback to the user if any requirement isn’t met."
   ]
  },
  {
   "cell_type": "code",
   "execution_count": 3,
   "id": "3b24ed59-0317-49af-a6c6-bd66ea36edb9",
   "metadata": {},
   "outputs": [],
   "source": [
    "import re\n",
    "\n",
    "# Define minimum length\n",
    "MIN_LENGTH = 8\n",
    "\n",
    "def has_min_length(password):\n",
    "    return len(password) >= MIN_LENGTH\n",
    "\n",
    "def has_uppercase(password):\n",
    "    return any(char.isupper() for char in password)\n",
    "\n",
    "def has_lowercase(password):\n",
    "    return any(char.islower() for char in password)\n",
    "\n",
    "def has_digit(password):\n",
    "    return any(char.isdigit() for char in password)\n",
    "\n",
    "def has_special_char(password):\n",
    "    return any(char in \"!@#$%^&*()-_+=<>?/\" for char in password)"
   ]
  },
  {
   "cell_type": "code",
   "execution_count": 5,
   "id": "22a1c99f-4d2a-47a6-8f76-b8228a4e6add",
   "metadata": {},
   "outputs": [],
   "source": [
    "def validate_password(password): # calls each of the individual requirement functions and provides feedback\n",
    "    errors = []\n",
    "    \n",
    "    if not has_min_length(password):\n",
    "        errors.append(f\"Password must be at least {MIN_LENGTH} characters long.\")\n",
    "    if not has_uppercase(password):\n",
    "        errors.append(\"Password must contain at least one uppercase letter.\")\n",
    "    if not has_lowercase(password):\n",
    "        errors.append(\"Password must contain at least one lowercase letter.\")\n",
    "    if not has_digit(password):\n",
    "        errors.append(\"Password must contain at least one digit.\")\n",
    "    if not has_special_char(password):\n",
    "        errors.append(\"Password must contain at least one special character (!@#$%^&*()-_+=<>?/).\")\n",
    "    \n",
    "    if not errors:\n",
    "        return \"Password is valid and secure!\"\n",
    "    else:\n",
    "        return \"\\n\".join(errors)"
   ]
  },
  {
   "cell_type": "code",
   "execution_count": 17,
   "id": "096fef46-3ac7-4d8d-bb8f-2e1852c7a80e",
   "metadata": {},
   "outputs": [
    {
     "name": "stdin",
     "output_type": "stream",
     "text": [
      "Enter a password to validate (or type 'exit' to quit):  dbfasdkbf#31\n"
     ]
    },
    {
     "name": "stdout",
     "output_type": "stream",
     "text": [
      "Password must contain at least one uppercase letter.\n",
      "--------------------------------------------------\n"
     ]
    },
    {
     "name": "stdin",
     "output_type": "stream",
     "text": [
      "Enter a password to validate (or type 'exit' to quit):  jbvkjafsdbvsWwRE@12\n"
     ]
    },
    {
     "name": "stdout",
     "output_type": "stream",
     "text": [
      "Password is valid and secure!\n",
      "--------------------------------------------------\n"
     ]
    },
    {
     "name": "stdin",
     "output_type": "stream",
     "text": [
      "Enter a password to validate (or type 'exit' to quit):  exit\n"
     ]
    }
   ],
   "source": [
    "if __name__ == \"__main__\":\n",
    "    while True:\n",
    "        password = input(\"Enter a password to validate (or type 'exit' to quit): \")\n",
    "        if password.lower() == 'exit':\n",
    "            break\n",
    "        feedback = validate_password(password)\n",
    "        print(feedback)\n",
    "        print(\"-\" * 50)"
   ]
  }
 ],
 "metadata": {
  "kernelspec": {
   "display_name": "Python 3 (ipykernel)",
   "language": "python",
   "name": "python3"
  },
  "language_info": {
   "codemirror_mode": {
    "name": "ipython",
    "version": 3
   },
   "file_extension": ".py",
   "mimetype": "text/x-python",
   "name": "python",
   "nbconvert_exporter": "python",
   "pygments_lexer": "ipython3",
   "version": "3.12.4"
  }
 },
 "nbformat": 4,
 "nbformat_minor": 5
}
