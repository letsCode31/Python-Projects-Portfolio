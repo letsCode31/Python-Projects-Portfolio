{
 "cells": [
  {
   "cell_type": "markdown",
   "id": "4b5dafc8-7fe9-400b-83a8-db86c2c39211",
   "metadata": {},
   "source": [
    "#### External libraries:\n",
    "\n",
    "##### qrcode: This library helps in generating QR codes.\n",
    "##### opencv-python: We'll use OpenCV to decode the QR codes.\n",
    "##### Pillow (PIL): This library helps in handling image operations."
   ]
  },
  {
   "cell_type": "code",
   "execution_count": 4,
   "id": "cee7b55b-75f8-4b85-b538-c8b1052dfb23",
   "metadata": {},
   "outputs": [
    {
     "name": "stdout",
     "output_type": "stream",
     "text": [
      "Requirement already satisfied: opencv-python in /opt/anaconda3/lib/python3.12/site-packages (4.10.0.84)\n",
      "Requirement already satisfied: pillow in /opt/anaconda3/lib/python3.12/site-packages (10.3.0)\n",
      "Requirement already satisfied: qrcode[pil] in /opt/anaconda3/lib/python3.12/site-packages (8.0)\n",
      "Requirement already satisfied: numpy>=1.21.2 in /opt/anaconda3/lib/python3.12/site-packages (from opencv-python) (1.26.4)\n",
      "Note: you may need to restart the kernel to use updated packages.\n"
     ]
    }
   ],
   "source": [
    "pip install qrcode\\[pil\\] opencv-python pillow\n"
   ]
  },
  {
   "cell_type": "code",
   "execution_count": 1,
   "id": "2b092cd4-c3a5-4ed2-a308-a98813d492ea",
   "metadata": {},
   "outputs": [],
   "source": [
    "import qrcode\n",
    "from PIL import Image"
   ]
  },
  {
   "cell_type": "code",
   "execution_count": 13,
   "id": "568c45d0-0309-4236-af0d-9db54f7e7670",
   "metadata": {},
   "outputs": [
    {
     "name": "stdin",
     "output_type": "stream",
     "text": [
      "Enter the data for the QR code:  https://github.com/letsCode31/Python-Projects-Portfolio/tree/main/Intermediate\n",
      "Enter the file name to save the QR code (default: qr_code.png):  Python Intermediate Practise Projects\n"
     ]
    },
    {
     "name": "stdout",
     "output_type": "stream",
     "text": [
      "QR Code generated and saved as Python Intermediate Practise Projects\n"
     ]
    }
   ],
   "source": [
    "def generate_qr_code(data, file_name=\"qr_code.png\"):\n",
    "    \"\"\"\n",
    "    Generate a QR code for the given data and save it as an image file.\n",
    "    \n",
    "    :param data: The source to encode in the QR code (text, URL, etc.).\n",
    "    :param file_name: The file name to save the QR code image (default is 'qr_code.png').\n",
    "    \"\"\"\n",
    "    # Create a QRCode object with desired settings\n",
    "    \n",
    "    qr = qrcode.QRCode(\n",
    "        version=1,  # controls the size of the QR code (1 to 40)\n",
    "        error_correction=qrcode.constants.ERROR_CORRECT_H,  # level of error correction\n",
    "        box_size=10,  # size of each box in pixels\n",
    "        border=4  # thickness of the border (minimum is 4)\n",
    "    )\n",
    "    # Add data to the QR code\n",
    "    \n",
    "    qr.add_data(data)\n",
    "    qr.make(fit=True) # allows the QR code to adapt to the size of the data\n",
    "    \n",
    "    # Create the QR code image\n",
    "    \n",
    "    img = qr.make_image(fill=\"black\", back_color=\"white\")\n",
    "    \n",
    "    # Save the QR code as an image file\n",
    "    \n",
    "    img.save(file_name)\n",
    "    print(f\"QR Code generated and saved as {file_name}\")\n",
    "    \n",
    "if __name__ == \"__main__\": # used to check whether the script is being run directly or imported as a module in another script.\n",
    "    # Example usage\n",
    "    data = input(\"Enter the data for the QR code: \")\n",
    "    file_name = input(\"Enter the file name to save the QR code (default: qr_code.png): \") or \"qr_code.png\"\n",
    "    generate_qr_code(data, file_name)"
   ]
  },
  {
   "cell_type": "markdown",
   "id": "bee9454b-3588-48ce-85d0-ae2e375e4488",
   "metadata": {},
   "source": [
    "#### Decoder"
   ]
  },
  {
   "cell_type": "code",
   "execution_count": 16,
   "id": "e75eedc6-441c-4445-a5bf-6e523d55b20d",
   "metadata": {},
   "outputs": [],
   "source": [
    "import cv2\n",
    "\n",
    "# OpenCV to load the image and detect the QR code."
   ]
  },
  {
   "cell_type": "code",
   "execution_count": 7,
   "id": "c1d3053e-2e8b-4a37-810a-0f193c98073a",
   "metadata": {},
   "outputs": [
    {
     "name": "stdin",
     "output_type": "stream",
     "text": [
      "Enter the path to the QR code image:  Python Intermediate Practise Projects\n"
     ]
    },
    {
     "data": {
      "application/javascript": [
       "\n",
       "        if (window._pyforest_update_imports_cell) { window._pyforest_update_imports_cell('import cv2'); }\n",
       "    "
      ],
      "text/plain": [
       "<IPython.core.display.Javascript object>"
      ]
     },
     "metadata": {},
     "output_type": "display_data"
    },
    {
     "data": {
      "application/javascript": [
       "\n",
       "        if (window._pyforest_update_imports_cell) { window._pyforest_update_imports_cell('import cv2'); }\n",
       "    "
      ],
      "text/plain": [
       "<IPython.core.display.Javascript object>"
      ]
     },
     "metadata": {},
     "output_type": "display_data"
    },
    {
     "name": "stdout",
     "output_type": "stream",
     "text": [
      "QR Code detected and decoded.\n",
      "Decoded data: https://github.com/letsCode31/Python-Projects-Portfolio/tree/main/Intermediate\n"
     ]
    }
   ],
   "source": [
    "def decode_qr_code(image_path):\n",
    "    \"\"\"\n",
    "    Decode the QR code from the given image file.\n",
    "    \n",
    "    :param image_path: The path to the image file containing the QR code.\n",
    "    :return: The decoded data from the QR code or None if decoding fails.\n",
    "    \"\"\"\n",
    "   # Load the image using OpenCV\n",
    "    img = cv2.imread(image_path)\n",
    "    \n",
    "    # Initialize the QRCode detector\n",
    "    detector = cv2.QRCodeDetector()\n",
    "    \n",
    "    # Detect and decode the QR code\n",
    "    data, vertices_array, _ = detector.detectAndDecode(img)\n",
    "    \n",
    "    # Check if decoding was successful\n",
    "    if vertices_array is not None:\n",
    "        print(\"QR Code detected and decoded.\")\n",
    "        return data\n",
    "    else:\n",
    "        print(\"No QR Code found.\")\n",
    "        return None\n",
    "\n",
    "if __name__ == \"__main__\":\n",
    "    # Example usage\n",
    "    image_path = input(\"Enter the path to the QR code image: \")\n",
    "    decoded_data = decode_qr_code(image_path)\n",
    "    \n",
    "    if decoded_data:\n",
    "        print(f\"Decoded data: {decoded_data}\")\n",
    "    else:\n",
    "        print(\"Failed to decode the QR code.\")"
   ]
  },
  {
   "cell_type": "code",
   "execution_count": null,
   "id": "658d395c-0b2e-4299-b2ea-19cbb2757218",
   "metadata": {},
   "outputs": [],
   "source": []
  }
 ],
 "metadata": {
  "kernelspec": {
   "display_name": "Python 3 (ipykernel)",
   "language": "python",
   "name": "python3"
  },
  "language_info": {
   "codemirror_mode": {
    "name": "ipython",
    "version": 3
   },
   "file_extension": ".py",
   "mimetype": "text/x-python",
   "name": "python",
   "nbconvert_exporter": "python",
   "pygments_lexer": "ipython3",
   "version": "3.12.4"
  }
 },
 "nbformat": 4,
 "nbformat_minor": 5
}
