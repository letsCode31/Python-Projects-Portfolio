{
 "cells": [
  {
   "cell_type": "markdown",
   "id": "e9df8eb0-262f-43dd-94ae-ea60c08d612f",
   "metadata": {},
   "source": [
    "### Implementation\n",
    "##### We will implement three different approaches:\n",
    "\n",
    "##### - Using String Slicing: The simplest way to reverse a string in Python.\n",
    "##### - Using a Loop: Manually reverse the string by iterating over it.\n",
    "##### - Using the reversed() Function: Built-in Python function for reversing iterables."
   ]
  },
  {
   "cell_type": "code",
   "execution_count": 1,
   "id": "a87f8cd8-f3ac-4e27-9632-8061cbf89f90",
   "metadata": {},
   "outputs": [
    {
     "name": "stdout",
     "output_type": "stream",
     "text": [
      "Original String: Hello, World!\n",
      "Reversed using slicing: !dlroW ,olleH\n",
      "Reversed using a loop: !dlroW ,olleH\n",
      "Reversed using reversed() function: !dlroW ,olleH\n"
     ]
    }
   ],
   "source": [
    "# Method 1: Using String Slicing\n",
    "def reverse_string_slicing(input_string):\n",
    "    return input_string[::-1]\n",
    "\n",
    "# Method 2: Using a Loop\n",
    "def reverse_string_loop(input_string):\n",
    "    reversed_string = ''\n",
    "    for char in input_string:\n",
    "        reversed_string = char + reversed_string\n",
    "    return reversed_string\n",
    "\n",
    "# Method 3: Using the reversed() Function\n",
    "def reverse_string_reversed(input_string):\n",
    "    return ''.join(reversed(input_string))\n",
    "\n",
    "# Test the functions with a sample input\n",
    "sample_input = \"Hello, World!\"\n",
    "\n",
    "print(\"Original String:\", sample_input)\n",
    "print(\"Reversed using slicing:\", reverse_string_slicing(sample_input))\n",
    "print(\"Reversed using a loop:\", reverse_string_loop(sample_input))\n",
    "print(\"Reversed using reversed() function:\", reverse_string_reversed(sample_input))"
   ]
  },
  {
   "cell_type": "markdown",
   "id": "1e2f6735-b5a5-4536-b68d-e9f81fee6bbe",
   "metadata": {},
   "source": [
    "### Alteration:\n",
    "\n",
    "##### If the input is a single word, the program should reverse the characters in the word.\n",
    "##### If the input is a sentence, the program should reverse the order of the words while keeping the words themselves intact."
   ]
  },
  {
   "cell_type": "code",
   "execution_count": 9,
   "id": "2f37abec-3c6d-4db0-952c-cc3e215c119e",
   "metadata": {},
   "outputs": [
    {
     "name": "stdin",
     "output_type": "stream",
     "text": [
      "Enter a word or a sentence:  I am Groot\n"
     ]
    },
    {
     "name": "stdout",
     "output_type": "stream",
     "text": [
      "Reversed result: Groot am I\n"
     ]
    }
   ],
   "source": [
    "def reverse_string(input_string):\n",
    "    # Check if the input is a single word or a sentence\n",
    "    if \" \" in input_string:\n",
    "        # It's a sentence, reverse the order of the words\n",
    "        reversed_sentence = \" \".join(input_string.split()[::-1])\n",
    "        return reversed_sentence\n",
    "    else:\n",
    "        # It's a single word, reverse the characters\n",
    "        reversed_word = input_string[::-1]\n",
    "        return reversed_word\n",
    "\n",
    "# Get user input\n",
    "user_input = input(\"Enter a word or a sentence: \").strip()\n",
    "\n",
    "# Get the reversed result based on the input type\n",
    "result = reverse_string(user_input)\n",
    "\n",
    "# Display the result\n",
    "print(\"Reversed result:\", result)"
   ]
  },
  {
   "cell_type": "code",
   "execution_count": null,
   "id": "ce94b892-5503-49b6-b286-bd48306f4efa",
   "metadata": {},
   "outputs": [],
   "source": []
  }
 ],
 "metadata": {
  "kernelspec": {
   "display_name": "Python 3 (ipykernel)",
   "language": "python",
   "name": "python3"
  },
  "language_info": {
   "codemirror_mode": {
    "name": "ipython",
    "version": 3
   },
   "file_extension": ".py",
   "mimetype": "text/x-python",
   "name": "python",
   "nbconvert_exporter": "python",
   "pygments_lexer": "ipython3",
   "version": "3.12.4"
  }
 },
 "nbformat": 4,
 "nbformat_minor": 5
}
