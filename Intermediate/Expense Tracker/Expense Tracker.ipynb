{
 "cells": [
  {
   "cell_type": "code",
   "execution_count": 1,
   "id": "1f9e6cbe-9284-41df-9d87-ae00b1b6dfbb",
   "metadata": {},
   "outputs": [],
   "source": [
    "import csv\n",
    "import os\n",
    "import matplotlib.pyplot as plt\n",
    "from datetime import datetime\n"
   ]
  },
  {
   "cell_type": "code",
   "execution_count": 3,
   "id": "7f45aac9-3763-4e4c-812f-547b53066b4d",
   "metadata": {},
   "outputs": [],
   "source": [
    "# Define the file name for storing expenses\n",
    "FILE_NAME = \"expenses.csv\"\n",
    "\n",
    "# Check if the file exists, and if not, create it with a header row\n",
    "if not os.path.exists(FILE_NAME):\n",
    "    with open(FILE_NAME, mode='w', newline='') as file:\n",
    "        writer = csv.writer(file)\n",
    "        writer.writerow([\"Date\", \"Category\", \"Amount\", \"Description\"])"
   ]
  },
  {
   "cell_type": "code",
   "execution_count": 5,
   "id": "c3b186c9-0473-4eed-8159-368f99b64349",
   "metadata": {},
   "outputs": [],
   "source": [
    "def add_expense():\n",
    "    # Get user input for expense details\n",
    "    category = input(\"Enter category (e.g., Food, Transport, Utilities): \").capitalize()\n",
    "    \n",
    "    # Validate the amount input\n",
    "    try:\n",
    "        amount = float(input(\"Enter amount: \"))\n",
    "    except ValueError:\n",
    "        print(\"Invalid amount. Please enter a numeric value.\")\n",
    "        return\n",
    "\n",
    "    description = input(\"Enter a brief description: \")\n",
    "    date = datetime.now().strftime(\"%Y-%m-%d\")\n",
    "\n",
    "    # Write the expense to the CSV file\n",
    "    with open(FILE_NAME, mode='a', newline='') as file:\n",
    "        writer = csv.writer(file)\n",
    "        writer.writerow([date, category, amount, description])\n",
    "\n",
    "    print(f\"Expense added: {category} - ${amount:.2f} ({description})\")"
   ]
  },
  {
   "cell_type": "code",
   "execution_count": 7,
   "id": "9cdaa5d7-e0f9-4671-8e34-f7e17a55b615",
   "metadata": {},
   "outputs": [],
   "source": [
    "def view_expenses():\n",
    "    # Check if the file exists and is not empty\n",
    "    if not os.path.exists(FILE_NAME) or os.stat(FILE_NAME).st_size == 0:\n",
    "        print(\"No expenses recorded yet.\")\n",
    "        return\n",
    "\n",
    "    # Read and display expenses from the file\n",
    "    with open(FILE_NAME, mode='r') as file:\n",
    "        reader = csv.reader(file)\n",
    "        next(reader)  # Skip the header row\n",
    "        print(\"\\nDate         | Category      | Amount    | Description\")\n",
    "        print(\"-\" * 60)\n",
    "        for row in reader:\n",
    "            print(f\"{row[0]} | {row[1]:<13} | ${float(row[2]):<8.2f} | {row[3]}\")"
   ]
  },
  {
   "cell_type": "code",
   "execution_count": 9,
   "id": "fa965f96-f51b-44d5-8bce-086bfcb2127d",
   "metadata": {},
   "outputs": [],
   "source": [
    "def visualize_expenses():\n",
    "    # Initialize a dictionary to store expenses by category\n",
    "    expenses_by_category = {}\n",
    "\n",
    "    # Read expenses from the CSV file\n",
    "    with open(FILE_NAME, mode='r') as file:\n",
    "        reader = csv.reader(file)\n",
    "        next(reader)  # Skip the header row\n",
    "        for row in reader:\n",
    "            category = row[1]\n",
    "            amount = float(row[2])\n",
    "            expenses_by_category[category] = expenses_by_category.get(category, 0) + amount\n",
    "\n",
    "    # Check if there are any expenses to visualize\n",
    "    if not expenses_by_category:\n",
    "        print(\"No expenses to visualize.\")\n",
    "        return\n",
    "\n",
    "    # Plot the data using matplotlib\n",
    "    categories = list(expenses_by_category.keys())\n",
    "    amounts = list(expenses_by_category.values())\n",
    "\n",
    "    plt.figure(figsize=(10, 6))\n",
    "    plt.bar(categories, amounts, color='skyblue')\n",
    "    plt.title(\"Expenses by Category\")\n",
    "    plt.xlabel(\"Category\")\n",
    "    plt.ylabel(\"Total Amount ($)\")\n",
    "    plt.grid(axis='y')\n",
    "    plt.show()"
   ]
  },
  {
   "cell_type": "code",
   "execution_count": 12,
   "id": "cab05394-a1cd-45f2-915e-4b6f89744805",
   "metadata": {},
   "outputs": [
    {
     "name": "stdout",
     "output_type": "stream",
     "text": [
      "\n",
      "Expense Tracker Menu:\n",
      "1. Add an Expense\n",
      "2. View All Expenses\n",
      "3. Visualize Expenses by Category\n",
      "4. Exit\n"
     ]
    },
    {
     "name": "stdin",
     "output_type": "stream",
     "text": [
      "Choose an option (1-4):  1\n",
      "Enter category (e.g., Food, Transport, Utilities):  Food\n",
      "Enter amount:  204\n",
      "Enter a brief description:  Lunch \n"
     ]
    },
    {
     "name": "stdout",
     "output_type": "stream",
     "text": [
      "Expense added: Food - $204.00 (Lunch )\n",
      "\n",
      "Expense Tracker Menu:\n",
      "1. Add an Expense\n",
      "2. View All Expenses\n",
      "3. Visualize Expenses by Category\n",
      "4. Exit\n"
     ]
    },
    {
     "name": "stdin",
     "output_type": "stream",
     "text": [
      "Choose an option (1-4):  2\n"
     ]
    },
    {
     "name": "stdout",
     "output_type": "stream",
     "text": [
      "\n",
      "Date         | Category      | Amount    | Description\n",
      "------------------------------------------------------------\n",
      "2024-12-10 | Food          | $204.00   | Lunch \n",
      "\n",
      "Expense Tracker Menu:\n",
      "1. Add an Expense\n",
      "2. View All Expenses\n",
      "3. Visualize Expenses by Category\n",
      "4. Exit\n"
     ]
    },
    {
     "name": "stdin",
     "output_type": "stream",
     "text": [
      "Choose an option (1-4):  1\n",
      "Enter category (e.g., Food, Transport, Utilities):  Transport\n",
      "Enter amount:  25\n",
      "Enter a brief description:  go to office\n"
     ]
    },
    {
     "name": "stdout",
     "output_type": "stream",
     "text": [
      "Expense added: Transport - $25.00 (go to office)\n",
      "\n",
      "Expense Tracker Menu:\n",
      "1. Add an Expense\n",
      "2. View All Expenses\n",
      "3. Visualize Expenses by Category\n",
      "4. Exit\n"
     ]
    },
    {
     "name": "stdin",
     "output_type": "stream",
     "text": [
      "Choose an option (1-4):  3\n"
     ]
    },
    {
     "data": {
      "image/png": "[encoded data removed]",
      "text/plain": [
       "<Figure size 1000x600 with 1 Axes>"
      ]
     },
     "metadata": {},
     "output_type": "display_data"
    },
    {
     "name": "stdout",
     "output_type": "stream",
     "text": [
      "\n",
      "Expense Tracker Menu:\n",
      "1. Add an Expense\n",
      "2. View All Expenses\n",
      "3. Visualize Expenses by Category\n",
      "4. Exit\n"
     ]
    },
    {
     "name": "stdin",
     "output_type": "stream",
     "text": [
      "Choose an option (1-4):  4\n"
     ]
    },
    {
     "name": "stdout",
     "output_type": "stream",
     "text": [
      "Goodbye!\n"
     ]
    }
   ],
   "source": [
    "def main():\n",
    "    while True:\n",
    "        print(\"\\nExpense Tracker Menu:\")\n",
    "        print(\"1. Add an Expense\")\n",
    "        print(\"2. View All Expenses\")\n",
    "        print(\"3. Visualize Expenses by Category\")\n",
    "        print(\"4. Exit\")\n",
    "\n",
    "        choice = input(\"Choose an option (1-4): \")\n",
    "\n",
    "        if choice == '1':\n",
    "            add_expense()\n",
    "        elif choice == '2':\n",
    "            view_expenses()\n",
    "        elif choice == '3':\n",
    "            visualize_expenses()\n",
    "        elif choice == '4':\n",
    "            print(\"Goodbye!\")\n",
    "            break\n",
    "        else:\n",
    "            print(\"Invalid choice. Please enter a number between 1 and 4.\")\n",
    "\n",
    "if __name__ == \"__main__\":\n",
    "    main()"
   ]
  },
  {
   "cell_type": "code",
   "execution_count": null,
   "id": "3d0c2f66-79dc-4237-8d21-35814a9d51a4",
   "metadata": {},
   "outputs": [],
   "source": []
  }
 ],
 "metadata": {
  "kernelspec": {
   "display_name": "Python 3 (ipykernel)",
   "language": "python",
   "name": "python3"
  },
  "language_info": {
   "codemirror_mode": {
    "name": "ipython",
    "version": 3
   },
   "file_extension": ".py",
   "mimetype": "text/x-python",
   "name": "python",
   "nbconvert_exporter": "python",
   "pygments_lexer": "ipython3",
   "version": "3.12.4"
  }
 },
 "nbformat": 4,
 "nbformat_minor": 5
}
