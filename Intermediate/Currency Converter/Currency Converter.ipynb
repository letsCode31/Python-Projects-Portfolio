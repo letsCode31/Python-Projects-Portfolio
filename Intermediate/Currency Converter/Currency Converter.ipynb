{
 "cells": [
  {
   "cell_type": "markdown",
   "id": "0d2cbcc3-30ba-4e5f-a523-ed36fefdb18f",
   "metadata": {},
   "source": [
    "### 1. Import Required Libraries"
   ]
  },
  {
   "cell_type": "code",
   "execution_count": 2,
   "id": "95783c5e-7568-43a6-9111-a5e57ad44deb",
   "metadata": {},
   "outputs": [],
   "source": [
    "import requests\n",
    "import json\n"
   ]
  },
  {
   "cell_type": "markdown",
   "id": "205d9ce9-4457-49af-8f17-2bf6480e7d89",
   "metadata": {},
   "source": [
    "### 2. Define the API Endpoint and API Key"
   ]
  },
  {
   "cell_type": "code",
   "execution_count": null,
   "id": "5d582b4a-2d30-443a-b8b1-6b5f67729eae",
   "metadata": {},
   "outputs": [],
   "source": [
    "API_KEY = \"YOUR_API_KEY\"  # Replace with your actual API key\n",
    "BASE_URL = \"https://v6.exchangerate-api.com/v6\"\n"
   ]
  }
 ],
 "metadata": {
  "kernelspec": {
   "display_name": "Python 3 (ipykernel)",
   "language": "python",
   "name": "python3"
  },
  "language_info": {
   "codemirror_mode": {
    "name": "ipython",
    "version": 3
   },
   "file_extension": ".py",
   "mimetype": "text/x-python",
   "name": "python",
   "nbconvert_exporter": "python",
   "pygments_lexer": "ipython3",
   "version": "3.12.4"
  }
 },
 "nbformat": 4,
 "nbformat_minor": 5
}
