{
 "cells": [
  {
   "cell_type": "markdown",
   "id": "898f10e0-d96e-46e2-ba83-2dbcfb00b88f",
   "metadata": {},
   "source": [
    "#### We’ll set up basic requirements like:\n",
    "\n",
    "##### Minimum length (e.g., 8 characters)\n",
    "##### At least one uppercase letter\n",
    "##### At least one lowercase letter\n",
    "##### At least one digit\n",
    "##### At least one special character\n",
    "##### We’ll also give feedback to the user if any requirement isn’t met.\n",
    "##### Also added a check that password should not contain username"
   ]
  },
  {
   "cell_type": "code",
   "execution_count": 23,
   "id": "ce896149-38fc-49f8-afb7-feaa21b3c94a",
   "metadata": {},
   "outputs": [
    {
     "name": "stdin",
     "output_type": "stream",
     "text": [
      "Enter your username:  Praval\n",
      "Enter a password to validate (or type 'exit' to quit):  Praval31@\n"
     ]
    },
    {
     "name": "stdout",
     "output_type": "stream",
     "text": [
      "Password should not contain the username.\n",
      "--------------------------------------------------\n"
     ]
    },
    {
     "name": "stdin",
     "output_type": "stream",
     "text": [
      "Enter a password to validate (or type 'exit' to quit):  dbfskSSND@123\n"
     ]
    },
    {
     "name": "stdout",
     "output_type": "stream",
     "text": [
      "Password is valid and secure!\n",
      "Hashed Password: becdbc4a44d714a6d1f9be8c15851f2acbbe8c866e032e005e59bb1afecb3171\n",
      "--------------------------------------------------\n"
     ]
    },
    {
     "name": "stdin",
     "output_type": "stream",
     "text": [
      "Enter a password to validate (or type 'exit' to quit):  nvkjsaPrafnval@3435\n"
     ]
    },
    {
     "name": "stdout",
     "output_type": "stream",
     "text": [
      "Password is valid and secure!\n",
      "Hashed Password: 9fec71dab93bef56e1a74154eacabe76945c766aaf6c4d048cacbf969f92bba7\n",
      "--------------------------------------------------\n"
     ]
    },
    {
     "name": "stdin",
     "output_type": "stream",
     "text": [
      "Enter a password to validate (or type 'exit' to quit):  exit\n"
     ]
    }
   ],
   "source": [
    "import re\n",
    "import hashlib\n",
    "\n",
    "# Define password requirements\n",
    "MIN_LENGTH = 8  # Minimum length for the password\n",
    "\n",
    "# Function to check minimum length requirement\n",
    "def has_min_length(password):\n",
    "    return len(password) >= MIN_LENGTH\n",
    "\n",
    "# Function to check if there's at least one uppercase letter in the password\n",
    "def has_uppercase(password):\n",
    "    return any(char.isupper() for char in password)\n",
    "\n",
    "# Function to check if there's at least one lowercase letter in the password\n",
    "def has_lowercase(password):\n",
    "    return any(char.islower() for char in password)\n",
    "\n",
    "# Function to check if there's at least one digit in the password\n",
    "def has_digit(password):\n",
    "    return any(char.isdigit() for char in password)\n",
    "\n",
    "# Function to check if there's at least one special character in the password\n",
    "def has_special_char(password):\n",
    "    return any(char in \"!@#$%^&*()-_+=<>?/\" for char in password)\n",
    "\n",
    "# Function to ensure the password does not contain the username\n",
    "def does_not_contain_username(password, username):\n",
    "    # Convert both to lowercase to check for case-insensitive matches\n",
    "    return username.lower() not in password.lower()\n",
    "\n",
    "# Main function to validate the password based on all criteria\n",
    "def validate_password(password, username):\n",
    "    errors = []  # Initialize a list to collect error messages\n",
    "\n",
    "    # Check each password requirement and append a message if it fails\n",
    "    if not has_min_length(password):\n",
    "        errors.append(f\"Password must be at least {MIN_LENGTH} characters long.\")\n",
    "    if not has_uppercase(password):\n",
    "        errors.append(\"Password must contain at least one uppercase letter.\")\n",
    "    if not has_lowercase(password):\n",
    "        errors.append(\"Password must contain at least one lowercase letter.\")\n",
    "    if not has_digit(password):\n",
    "        errors.append(\"Password must contain at least one digit.\")\n",
    "    if not has_special_char(password):\n",
    "        errors.append(\"Password must contain at least one special character (!@#$%^&*()-_+=<>?/).\")\n",
    "    if not does_not_contain_username(password, username):\n",
    "        errors.append(\"Password should not contain the username.\")\n",
    "\n",
    "    # If there are no errors, return success message, otherwise return all error messages\n",
    "    if not errors:\n",
    "        return \"Password is valid and secure!\"\n",
    "    else:\n",
    "        return \"\\n\".join(errors)\n",
    "\n",
    "# Optional function to hash the password for secure storage\n",
    "def hash_password(password):\n",
    "    # Use SHA-256 hashing to securely hash the password\n",
    "    return hashlib.sha256(password.encode()).hexdigest()\n",
    "\n",
    "# Main program loop to allow multiple password checks\n",
    "if __name__ == \"__main__\":\n",
    "    # Prompt the user to enter their username\n",
    "    username = input(\"Enter your username: \")\n",
    "    \n",
    "    # Loop to keep validating passwords until the user types 'exit'\n",
    "    while True:\n",
    "        # Prompt the user to enter a password\n",
    "        password = input(\"Enter a password to validate (or type 'exit' to quit): \")\n",
    "        \n",
    "        # Check if the user wants to exit the program\n",
    "        if password.lower() == 'exit':\n",
    "            break\n",
    "        \n",
    "        # Validate the entered password using the validate_password function\n",
    "        feedback = validate_password(password, username)\n",
    "        \n",
    "        # Print feedback on whether the password meets all requirements or list of errors\n",
    "        print(feedback)\n",
    "        \n",
    "        # If the password is valid, show its hashed version\n",
    "        if \"valid and secure\" in feedback:\n",
    "            print(f\"Hashed Password: {hash_password(password)}\")\n",
    "        \n",
    "        # Print a separator line for readability between password attempts\n",
    "        print(\"-\" * 50)"
   ]
  },
  {
   "cell_type": "code",
   "execution_count": null,
   "id": "81153040-6f0f-4ebb-aa19-cb70fce4e748",
   "metadata": {},
   "outputs": [],
   "source": []
  }
 ],
 "metadata": {
  "kernelspec": {
   "display_name": "Python 3 (ipykernel)",
   "language": "python",
   "name": "python3"
  },
  "language_info": {
   "codemirror_mode": {
    "name": "ipython",
    "version": 3
   },
   "file_extension": ".py",
   "mimetype": "text/x-python",
   "name": "python",
   "nbconvert_exporter": "python",
   "pygments_lexer": "ipython3",
   "version": "3.12.4"
  }
 },
 "nbformat": 4,
 "nbformat_minor": 5
}
