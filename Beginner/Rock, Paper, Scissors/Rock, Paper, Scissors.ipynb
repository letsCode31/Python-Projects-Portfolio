{
 "cells": [
  {
   "cell_type": "markdown",
   "id": "46df16fa-e1d1-4b5c-8d2f-55c9649034a1",
   "metadata": {},
   "source": [
    "## Game Requirements\n",
    "\n",
    "##### The game should let the user choose \"Rock,\" \"Paper,\" or \"Scissors.\"\n",
    "##### The computer randomly selects its choice.\n",
    "##### The winner is decided based on the rules:\n",
    "##### Rock beats Scissors.\n",
    "##### Scissors beat Paper.\n",
    "##### Paper beats Rock.\n",
    "##### Display the results and prompt the user to play again."
   ]
  },
  {
   "cell_type": "code",
   "execution_count": 10,
   "id": "603ab056-8cca-4177-a7ca-e2259726b4f1",
   "metadata": {},
   "outputs": [
    {
     "name": "stdin",
     "output_type": "stream",
     "text": [
      "Enter your choice (rock, paper, or scissors):  paper\n"
     ]
    },
    {
     "name": "stdout",
     "output_type": "stream",
     "text": [
      "The computer chose: paper\n",
      "It's a tie!\n"
     ]
    },
    {
     "name": "stdin",
     "output_type": "stream",
     "text": [
      "Do you want to play again? (yes/no):  no\n"
     ]
    },
    {
     "name": "stdout",
     "output_type": "stream",
     "text": [
      "Thanks for playing!\n"
     ]
    }
   ],
   "source": [
    "import random # to use the choice function for computer's random generation.\n",
    "\n",
    "# Step 1: Define the possible choices\n",
    "choices = [\"rock\", \"paper\", \"scissors\"]\n",
    "\n",
    "# Step 2: Create a function to determine the winner\n",
    "def determine_winner(user_choice, computer_choice):\n",
    "    if user_choice == computer_choice:\n",
    "        return \"It's a tie!\"\n",
    "    elif (user_choice == \"rock\" and computer_choice == \"scissors\") or \\\n",
    "         (user_choice == \"scissors\" and computer_choice == \"paper\") or \\\n",
    "         (user_choice == \"paper\" and computer_choice == \"rock\"):\n",
    "        return \"You win!\"\n",
    "    else:\n",
    "        return \"You lose!\"\n",
    "\n",
    "# Step 3: Main game loop\n",
    "while True:\n",
    "    # Step 3.1: Get user input\n",
    "    user_choice = input(\"Enter your choice (rock, paper, or scissors): \").lower()\n",
    "\n",
    "    # Step 3.2: Validate user input\n",
    "    if user_choice not in choices:\n",
    "        print(\"Invalid choice. Please try again.\")\n",
    "        continue\n",
    "\n",
    "    # Step 3.3: Computer makes a random choice\n",
    "    computer_choice = random.choice(choices)\n",
    "    print(f\"The computer chose: {computer_choice}\") # f-strings allow you to embed expressions inside string literals, using curly braces {}\n",
    "\n",
    "    # Alternate ways to print computer choice:\n",
    "    # 1. print(\"The computer chose: {}\".format(computer_choice))\n",
    "    # 2. print(\"The computer chose: %s\" % computer_choice)\n",
    "\n",
    "    # Step 3.4: Determine the winner\n",
    "    result = determine_winner(user_choice, computer_choice)\n",
    "    print(result)\n",
    "\n",
    "    # Step 3.5: Ask if the user wants to play again\n",
    "    play_again = input(\"Do you want to play again? (yes/no): \").lower()\n",
    "    if play_again != \"yes\":\n",
    "        print(\"Thanks for playing!\")\n",
    "        break\n"
   ]
  },
  {
   "cell_type": "markdown",
   "id": "b2eab177-3675-4023-85fe-45903be009f1",
   "metadata": {},
   "source": [
    "### let us play among two players\n",
    "\n",
    "##### in case of tie, ask to choose again automatically"
   ]
  },
  {
   "cell_type": "code",
   "execution_count": 14,
   "id": "5fea5dc5-94cb-414f-a6b9-7168924c6708",
   "metadata": {},
   "outputs": [
    {
     "name": "stdin",
     "output_type": "stream",
     "text": [
      "Player 1, enter your choice (rock, paper, or scissors):  paper\n",
      "Player 2, enter your choice (rock, paper, or scissors):  paper\n"
     ]
    },
    {
     "name": "stdout",
     "output_type": "stream",
     "text": [
      "It's a tie! Please choose again.\n"
     ]
    },
    {
     "name": "stdin",
     "output_type": "stream",
     "text": [
      "Player 1, enter your choice (rock, paper, or scissors):  rock\n",
      "Player 2, enter your choice (rock, paper, or scissors):  scissors\n"
     ]
    },
    {
     "name": "stdout",
     "output_type": "stream",
     "text": [
      "Player 1 wins!\n"
     ]
    },
    {
     "name": "stdin",
     "output_type": "stream",
     "text": [
      "Do you want to play again? (yes/no):  No\n"
     ]
    },
    {
     "name": "stdout",
     "output_type": "stream",
     "text": [
      "Thanks for playing!\n"
     ]
    }
   ],
   "source": [
    "# Step 1: Define the possible choices\n",
    "choices = [\"rock\", \"paper\", \"scissors\"]\n",
    "\n",
    "# Step 2: Create a function to determine the winner\n",
    "def determine_winner(player1_choice, player2_choice):\n",
    "    if player1_choice == player2_choice:\n",
    "        return \"tie\"\n",
    "    elif (player1_choice == \"rock\" and player2_choice == \"scissors\") or \\\n",
    "         (player1_choice == \"scissors\" and player2_choice == \"paper\") or \\\n",
    "         (player1_choice == \"paper\" and player2_choice == \"rock\"):\n",
    "        return \"Player 1 wins!\"\n",
    "    else:\n",
    "        return \"Player 2 wins!\"\n",
    "\n",
    "# Step 3: Main game loop\n",
    "while True:\n",
    "    # Step 3.1: Get player choices\n",
    "    while True:  # This loop continues until a non-tie outcome\n",
    "        player1_choice = input(\"Player 1, enter your choice (rock, paper, or scissors): \").lower()\n",
    "        player2_choice = input(\"Player 2, enter your choice (rock, paper, or scissors): \").lower()\n",
    "\n",
    "        # Step 3.2: Validate player inputs\n",
    "        if player1_choice not in choices or player2_choice not in choices:\n",
    "            print(\"Invalid choice(s). Please try again.\")\n",
    "            continue\n",
    "\n",
    "        # Step 3.3: Determine the winner\n",
    "        result = determine_winner(player1_choice, player2_choice)\n",
    "        if result == \"tie\":\n",
    "            print(\"It's a tie! Please choose again.\")\n",
    "            # Continue the loop if it's a tie\n",
    "        else:\n",
    "            print(result)\n",
    "            # Exit the loop if there's a winner\n",
    "            break\n",
    "\n",
    "    # Step 3.4: Ask if players want to play again\n",
    "    play_again = input(\"Do you want to play again? (yes/no): \").lower()\n",
    "    if play_again != \"yes\":\n",
    "        print(\"Thanks for playing!\")\n",
    "        break"
   ]
  },
  {
   "cell_type": "code",
   "execution_count": null,
   "id": "6b82bab6-9448-4681-9bf5-f9a131fae7fb",
   "metadata": {},
   "outputs": [],
   "source": []
  }
 ],
 "metadata": {
  "kernelspec": {
   "display_name": "Python 3 (ipykernel)",
   "language": "python",
   "name": "python3"
  },
  "language_info": {
   "codemirror_mode": {
    "name": "ipython",
    "version": 3
   },
   "file_extension": ".py",
   "mimetype": "text/x-python",
   "name": "python",
   "nbconvert_exporter": "python",
   "pygments_lexer": "ipython3",
   "version": "3.12.4"
  }
 },
 "nbformat": 4,
 "nbformat_minor": 5
}
