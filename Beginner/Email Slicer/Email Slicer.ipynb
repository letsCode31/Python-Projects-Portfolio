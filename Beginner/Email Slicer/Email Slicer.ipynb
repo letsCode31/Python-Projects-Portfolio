{
 "cells": [
  {
   "cell_type": "markdown",
   "id": "32c0a17b-ba7d-4ec8-8852-f1c049b7e656",
   "metadata": {},
   "source": [
    "### Splitting username and domain\n",
    "##### Given an email address in the format username@domain.com, we need to:\n",
    "##### - Extract the username (everything before the @ symbol).\n",
    "##### - Extract the domain (everything after the @ symbol)"
   ]
  },
  {
   "cell_type": "code",
   "execution_count": 2,
   "id": "1e426493-9f3d-45ef-b42d-20d7ce5ac21a",
   "metadata": {},
   "outputs": [
    {
     "name": "stdin",
     "output_type": "stream",
     "text": [
      "Enter your email address:  jupyter123@domain.com\n"
     ]
    },
    {
     "name": "stdout",
     "output_type": "stream",
     "text": [
      "Username: jupyter123\n",
      "Domain: domain.com\n"
     ]
    }
   ],
   "source": [
    "# Step 1: Get the email address from the user\n",
    "\n",
    "email = input(\"Enter your email address: \").strip()\n",
    "\n",
    "# Step 2: Split the email into username and domain.\n",
    "# We use the split() function with '@' as the delimiter to separate the email address into two parts: username and domain.\n",
    "# If the email doesn't contain exactly one @, a ValueError will be raised.\n",
    "\n",
    "try:\n",
    "    username, domain = email.split('@')\n",
    "    \n",
    "    # Step 3: Display the results\n",
    "    \n",
    "    print(f\"Username: {username}\")\n",
    "    print(f\"Domain: {domain}\")\n",
    "except ValueError:\n",
    "    print(\"Invalid email format. Please enter a valid email address.\")"
   ]
  },
  {
   "cell_type": "markdown",
   "id": "5d1cf17a-a313-4a55-a08e-34ee2491aa56",
   "metadata": {},
   "source": [
    "### Can we separate into first name and last name. \n",
    "##### some email IDs may have numbers , can we ignore that!"
   ]
  },
  {
   "cell_type": "code",
   "execution_count": 9,
   "id": "e8827451-1e8e-4c6d-9030-1e8ae554eb08",
   "metadata": {},
   "outputs": [
    {
     "name": "stdin",
     "output_type": "stream",
     "text": [
      "Enter your email address:  hello.word123@domain.com\n"
     ]
    },
    {
     "name": "stdout",
     "output_type": "stream",
     "text": [
      "Username: Hello, Word\n",
      "Domain: domain.com\n"
     ]
    }
   ],
   "source": [
    "# Step 1: Get the email address from the user\n",
    "\n",
    "email = input(\"Enter your email address: \").strip() #.strip() removes any leading or trailing whitespace from the input to avoid input errors.\n",
    "\n",
    "# Step 2: Split the email into username and domain\n",
    "try:\n",
    "    username, domain = email.split('@')\n",
    "\n",
    "    # Step 3: Remove any numbers from the username\n",
    "    # We use a list comprehension to filter out any digits from the username, retaining only the non-numeric characters.\n",
    "    username = ''.join([char for char in username if not char.isdigit()])\n",
    "\n",
    "    # Step 4: Check if the username contains a dot\n",
    "    \n",
    "    if '.' in username:\n",
    "        first_name, last_name = username.split('.', 1)  # Split at the first occurrence of '.' 1 represents that only 1 split to be done\n",
    "        \n",
    "        # Capitalize the first letter of each name\n",
    "        first_name = first_name.capitalize()\n",
    "        last_name = last_name.capitalize()\n",
    "        print(f\"Username: {first_name}, {last_name}\")\n",
    "    else:\n",
    "        # If no dot is present, treat the entire username as a single name\n",
    "        print(f\"Username: {username.capitalize()}\")\n",
    "\n",
    "    # Step 5: Display the domain\n",
    "    print(f\"Domain: {domain}\")\n",
    "    \n",
    "except ValueError:\n",
    "    print(\"Invalid email format. Please enter a valid email address.\")\n"
   ]
  },
  {
   "cell_type": "code",
   "execution_count": null,
   "id": "533d328a-4d62-4340-98ba-3f58d245455a",
   "metadata": {},
   "outputs": [],
   "source": []
  }
 ],
 "metadata": {
  "kernelspec": {
   "display_name": "Python 3 (ipykernel)",
   "language": "python",
   "name": "python3"
  },
  "language_info": {
   "codemirror_mode": {
    "name": "ipython",
    "version": 3
   },
   "file_extension": ".py",
   "mimetype": "text/x-python",
   "name": "python",
   "nbconvert_exporter": "python",
   "pygments_lexer": "ipython3",
   "version": "3.12.4"
  }
 },
 "nbformat": 4,
 "nbformat_minor": 5
}
