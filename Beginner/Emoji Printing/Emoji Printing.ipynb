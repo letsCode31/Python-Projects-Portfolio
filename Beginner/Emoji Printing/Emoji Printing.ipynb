{
 "cells": [
  {
   "cell_type": "markdown",
   "id": "d913cfa8-a978-47ba-ae0a-b0914345a94a",
   "metadata": {},
   "source": [
    "#### We will implement two different approaches:\n",
    "##### 1. Using Unicode Characters: Print emojis by using their Unicode escape sequences.\n",
    "##### 2. Using the emoji Library: Print emojis by installing the emoji library and using descriptive text."
   ]
  },
  {
   "cell_type": "code",
   "execution_count": 2,
   "id": "7dd9f3c9-e8ba-4cae-b34a-63a3c5f2ebd8",
   "metadata": {},
   "outputs": [
    {
     "name": "stdout",
     "output_type": "stream",
     "text": [
      "Emojis using Unicode:\n",
      "😀\n",
      "😂\n",
      "😍\n",
      "😉\n",
      "😭\n"
     ]
    }
   ],
   "source": [
    "# Method 1: Using Unicode Characters\n",
    "print(\"Emojis using Unicode:\")\n",
    "print(\"\\U0001F600\")  # 😀 Grinning Face\n",
    "print(\"\\U0001F602\")  # 😂 Face with Tears of Joy\n",
    "print(\"\\U0001F60D\")  # 😍 Smiling Face with Heart-Eyes\n",
    "print(\"\\U0001F609\")  # 😉 Winking Face\n",
    "print(\"\\U0001F62D\")  # 😭 Loudly Crying Face"
   ]
  },
  {
   "cell_type": "code",
   "execution_count": 6,
   "id": "dce00fda-653c-4b61-b89d-031db7ea9982",
   "metadata": {},
   "outputs": [
    {
     "name": "stdout",
     "output_type": "stream",
     "text": [
      "Collecting emoji\n",
      "  Downloading emoji-2.14.0-py3-none-any.whl.metadata (5.7 kB)\n",
      "Downloading emoji-2.14.0-py3-none-any.whl (586 kB)\n",
      "\u001b[2K   \u001b[90m━━━━━━━━━━━━━━━━━━━━━━━━━━━━━━━━━━━━━━━━\u001b[0m \u001b[32m586.9/586.9 kB\u001b[0m \u001b[31m4.8 MB/s\u001b[0m eta \u001b[36m0:00:00\u001b[0ma \u001b[36m0:00:01\u001b[0m\n",
      "\u001b[?25hInstalling collected packages: emoji\n",
      "Successfully installed emoji-2.14.0\n",
      "Note: you may need to restart the kernel to use updated packages.\n"
     ]
    }
   ],
   "source": [
    "pip install emoji"
   ]
  },
  {
   "cell_type": "code",
   "execution_count": 1,
   "id": "b0ba2326-ce10-4c29-a6a2-5f9c35651fec",
   "metadata": {},
   "outputs": [
    {
     "name": "stdout",
     "output_type": "stream",
     "text": [
      "\n",
      "Emojis using the emoji library:\n",
      "😀\n",
      "😂\n",
      "😍\n",
      "😉\n",
      "😭\n"
     ]
    }
   ],
   "source": [
    "# Method 2: Using the emoji library\n",
    "# Ensure you have installed the emoji library using: pip install emoji\n",
    "import emoji\n",
    "\n",
    "print(\"\\nEmojis using the emoji library:\")\n",
    "print(emoji.emojize(\":grinning_face:\"))       # 😀 Grinning Face\n",
    "print(emoji.emojize(\":face_with_tears_of_joy:\"))  # 😂 Face with Tears of Joy\n",
    "print(emoji.emojize(\":smiling_face_with_heart-eyes:\"))  # 😍 Smiling Face with Heart-Eyes\n",
    "print(emoji.emojize(\":winking_face:\"))         # 😉 Winking Face\n",
    "print(emoji.emojize(\":loudly_crying_face:\"))   # 😭 Loudly Crying Face"
   ]
  },
  {
   "cell_type": "code",
   "execution_count": null,
   "id": "61fb01d5-a54f-491e-93eb-ec3bbc8b964c",
   "metadata": {},
   "outputs": [],
   "source": []
  }
 ],
 "metadata": {
  "kernelspec": {
   "display_name": "Python 3 (ipykernel)",
   "language": "python",
   "name": "python3"
  },
  "language_info": {
   "codemirror_mode": {
    "name": "ipython",
    "version": 3
   },
   "file_extension": ".py",
   "mimetype": "text/x-python",
   "name": "python",
   "nbconvert_exporter": "python",
   "pygments_lexer": "ipython3",
   "version": "3.12.4"
  }
 },
 "nbformat": 4,
 "nbformat_minor": 5
}
