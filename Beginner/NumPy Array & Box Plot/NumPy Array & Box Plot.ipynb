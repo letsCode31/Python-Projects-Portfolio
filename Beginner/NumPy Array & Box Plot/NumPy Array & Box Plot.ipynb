{
 "cells": [
  {
   "cell_type": "markdown",
   "id": "3667f4d8-56f1-4e4d-86bc-95bb775d6e1d",
   "metadata": {},
   "source": [
    "## NumPy Array & Box Plot\n",
    "##### We will create a NumPy array with random numbers and sort the array.\n",
    "##### We’ll sort the array in both ascending and descending order.\n",
    "##### We will visualize the sorted data using a box plot to understand the distribution of the numbers"
   ]
  },
  {
   "cell_type": "code",
   "execution_count": 8,
   "id": "19f0a401-22c4-4ffe-b74b-779d139ded17",
   "metadata": {},
   "outputs": [
    {
     "name": "stdout",
     "output_type": "stream",
     "text": [
      "Original Array: [52 93 15 72 61 21 83 87 75 75 88 24  3 22 53  2 88 30 38  2 64 60 21 33\n",
      " 76 58 22 89 49 91 59 42 92 60 80 15 62 62 47 62 51 55 64  3 51  7 21 73\n",
      " 39 18]\n",
      "Sorted Array (Ascending): [ 2  2  3  3  7 15 15 18 21 21 21 22 22 24 30 33 38 39 42 47 49 51 51 52\n",
      " 53 55 58 59 60 60 61 62 62 62 64 64 72 73 75 75 76 80 83 87 88 88 89 91\n",
      " 92 93]\n",
      "Sorted Array (Descending): [93 92 91 89 88 88 87 83 80 76 75 75 73 72 64 64 62 62 62 61 60 60 59 58\n",
      " 55 53 52 51 51 49 47 42 39 38 33 30 24 22 22 21 21 21 18 15 15  7  3  3\n",
      "  2  2]\n"
     ]
    },
    {
     "data": {
      "image/png": "[encoded data removed]",
      "text/plain": [
       "<Figure size 300x150 with 1 Axes>"
      ]
     },
     "metadata": {},
     "output_type": "display_data"
    }
   ],
   "source": [
    "import pandas as pd\n",
    "import numpy as np\n",
    "import matplotlib.pyplot as plt\n",
    "import seaborn as sns\n",
    "\n",
    "# Step 1: Generate a NumPy array with random numbers\n",
    "np.random.seed(42)  # For reproducibility\n",
    "random_array = np.random.randint(1, 100, size=50)  # Array of 50 random integers between 1 and 100\n",
    "\n",
    "# Step 2: Sort the array\n",
    "sorted_array_asc = np.sort(random_array)  # Sort in ascending order\n",
    "sorted_array_desc = np.sort(random_array)[::-1]  # Sort in descending order\n",
    "\n",
    "# Step 3: Display the original and sorted arrays\n",
    "print(\"Original Array:\", random_array)\n",
    "print(\"Sorted Array (Ascending):\", sorted_array_asc)\n",
    "print(\"Sorted Array (Descending):\", sorted_array_desc)\n",
    "\n",
    "# Step 4: Plotting the Box Plot for the sorted array\n",
    "plt.figure(figsize=(3, 1.5))\n",
    "sns.boxplot(x=sorted_array_asc)\n",
    "plt.title('Box Plot of Sorted Array (Ascending)')\n",
    "plt.xlabel('Value')\n",
    "plt.show()\n"
   ]
  },
  {
   "cell_type": "markdown",
   "id": "69b6e1ff-5939-49ee-85ce-d78e130b9276",
   "metadata": {},
   "source": [
    "#### Let us add some outliers also!"
   ]
  },
  {
   "cell_type": "code",
   "execution_count": 15,
   "id": "4faa8459-988c-4005-8417-7037e5d93be3",
   "metadata": {},
   "outputs": [
    {
     "name": "stdout",
     "output_type": "stream",
     "text": [
      "Original Array: [52 93 15 72 61 21 83 87 75 75 88 24  3 22 53  2 88 30 38  2 64 60 21 33\n",
      " 76 58 22 89 49 91 59 42 92 60 80 15 62 62 47 62 51 55 64  3 51  7 21 73\n",
      " 39 18]\n",
      "Array with Outliers: [ 52  93  15  72  61  21  83  87  75  75  88  24   3  22  53   2  88  30\n",
      "  38   2  64  60  21  33  76  58  22  89  49  91  59  42  92  60  80  15\n",
      "  62  62  47  62  51  55  64   3  51   7  21  73  39  18 150 160 -20 -10]\n",
      "Sorted Array with Outliers: [-20 -10   2   2   3   3   7  15  15  18  21  21  21  22  22  24  30  33\n",
      "  38  39  42  47  49  51  51  52  53  55  58  59  60  60  61  62  62  62\n",
      "  64  64  72  73  75  75  76  80  83  87  88  88  89  91  92  93 150 160]\n"
     ]
    },
    {
     "data": {
      "image/png": "[encoded data removed]",
      "text/plain": [
       "<Figure size 300x150 with 1 Axes>"
      ]
     },
     "metadata": {},
     "output_type": "display_data"
    }
   ],
   "source": [
    "import numpy as np\n",
    "import matplotlib.pyplot as plt\n",
    "import seaborn as sns\n",
    "\n",
    "# Step 1: Generate a NumPy array with random numbers\n",
    "np.random.seed(42)  # For reproducibility\n",
    "random_array = np.random.randint(1, 100, size=50)  # Array of 50 random integers between 1 and 100\n",
    "\n",
    "# Step 2: Introduce outliers to the array\n",
    "outliers = np.array([150, 160, -20, -10])  # Adding some high and low outliers\n",
    "array_with_outliers = np.concatenate((random_array, outliers))  # Combine the original array with outliers\n",
    "\n",
    "# Step 3: Sort the array\n",
    "sorted_array_with_outliers = np.sort(array_with_outliers)  # Sort the combined array\n",
    "\n",
    "# Step 4: Display the original and modified arrays\n",
    "print(\"Original Array:\", random_array)\n",
    "print(\"Array with Outliers:\", array_with_outliers)\n",
    "print(\"Sorted Array with Outliers:\", sorted_array_with_outliers)\n",
    "\n",
    "# Step 5: Plotting the Box Plot for the array with outliers\n",
    "plt.figure(figsize=(3, 1.5))\n",
    "sns.boxplot(x=array_with_outliers)\n",
    "plt.title('Box Plot of Array with Outliers')\n",
    "plt.xlabel('Value')\n",
    "plt.show()"
   ]
  },
  {
   "cell_type": "markdown",
   "id": "e310d6ea-0c78-4635-bc57-82c61fac1455",
   "metadata": {},
   "source": [
    "#### Let's calculate quartile values too!"
   ]
  },
  {
   "cell_type": "code",
   "execution_count": 20,
   "id": "248d8f41-8819-4faf-a662-26b4b8b888ed",
   "metadata": {},
   "outputs": [
    {
     "name": "stdout",
     "output_type": "stream",
     "text": [
      "Sorted Array with Outliers: [-30 -20   2   2   3   3   7  15  15  18  21  21  21  22  22  24  30  33\n",
      "  38  39  42  47  49  51  51  52  53  55  58  59  60  60  61  62  62  62\n",
      "  64  64  72  73  75  75  76  80  83  87  88  88  89  91  92  93 150 160]\n",
      "Lower Quartile (Q1): 22.0\n",
      "Median (Q2): 54.0\n",
      "Upper Quartile (Q3): 74.5\n",
      "Interquartile Range (IQR): 52.5\n",
      "Lower Extreme Value: -56.75\n",
      "Upper Extreme Value: 153.25\n"
     ]
    },
    {
     "data": {
      "image/png": "[encoded data removed]",
      "text/plain": [
       "<Figure size 300x150 with 1 Axes>"
      ]
     },
     "metadata": {},
     "output_type": "display_data"
    }
   ],
   "source": [
    "import numpy as np\n",
    "import matplotlib.pyplot as plt\n",
    "import seaborn as sns\n",
    "\n",
    "# Step 1: Generate a NumPy array with random numbers\n",
    "np.random.seed(42)  # For reproducibility\n",
    "random_array = np.random.randint(1, 100, size=50)  # Array of 50 random integers between 1 and 100\n",
    "\n",
    "# Step 2: Introduce outliers to the array\n",
    "outliers = np.array([150, 160, -20, -30])  # Adding some high and low outliers\n",
    "array_with_outliers = np.concatenate((random_array, outliers))  # Combine the original array with outliers\n",
    "\n",
    "# Step 3: Sort the array\n",
    "sorted_array_with_outliers = np.sort(array_with_outliers)  # Sort the combined array\n",
    "\n",
    "# Step 4: Calculate quartiles, median, and extremes\n",
    "Q1 = np.percentile(array_with_outliers, 25)  # Lower quartile (25th percentile)\n",
    "Q2 = np.median(array_with_outliers)  # Median (50th percentile)\n",
    "Q3 = np.percentile(array_with_outliers, 75)  # Upper quartile (75th percentile)\n",
    "IQR = Q3 - Q1  # Interquartile Range\n",
    "\n",
    "# Define the upper and lower extreme values\n",
    "lower_extreme = Q1 - 1.5 * IQR\n",
    "upper_extreme = Q3 + 1.5 * IQR\n",
    "\n",
    "# Display calculated values\n",
    "print(\"Sorted Array with Outliers:\", sorted_array_with_outliers)\n",
    "print(\"Lower Quartile (Q1):\", Q1)\n",
    "print(\"Median (Q2):\", Q2)\n",
    "print(\"Upper Quartile (Q3):\", Q3)\n",
    "print(\"Interquartile Range (IQR):\", IQR)\n",
    "print(\"Lower Extreme Value:\", lower_extreme)\n",
    "print(\"Upper Extreme Value:\", upper_extreme)\n",
    "\n",
    "# Step 5: Plotting the Box Plot for the array with outliers\n",
    "plt.figure(figsize=(3, 1.5))\n",
    "sns.boxplot(x=array_with_outliers)\n",
    "plt.title('Box Plot of Array with Outliers')\n",
    "plt.xlabel('Value')\n",
    "plt.show()"
   ]
  },
  {
   "cell_type": "code",
   "execution_count": null,
   "id": "618fbd40-02b1-4c6a-85e7-08d536bcb72c",
   "metadata": {},
   "outputs": [],
   "source": []
  }
 ],
 "metadata": {
  "kernelspec": {
   "display_name": "Python 3 (ipykernel)",
   "language": "python",
   "name": "python3"
  },
  "language_info": {
   "codemirror_mode": {
    "name": "ipython",
    "version": 3
   },
   "file_extension": ".py",
   "mimetype": "text/x-python",
   "name": "python",
   "nbconvert_exporter": "python",
   "pygments_lexer": "ipython3",
   "version": "3.12.4"
  }
 },
 "nbformat": 4,
 "nbformat_minor": 5
}
